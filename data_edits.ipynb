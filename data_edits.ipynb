{
 "cells": [
  {
   "cell_type": "code",
   "execution_count": 1,
   "metadata": {},
   "outputs": [],
   "source": [
    "import os"
   ]
  },
  {
   "cell_type": "code",
   "execution_count": 2,
   "metadata": {},
   "outputs": [],
   "source": [
    "\n",
    "def get_innermost_directories(directory):\n",
    "    innermost_directories = []\n",
    "\n",
    "    for root, dirs, files in os.walk(directory):\n",
    "        if not dirs:\n",
    "            innermost_directories.append(root)\n",
    "\n",
    "    return innermost_directories"
   ]
  },
  {
   "cell_type": "code",
   "execution_count": 3,
   "metadata": {},
   "outputs": [
    {
     "name": "stdout",
     "output_type": "stream",
     "text": [
      "Innermost directories in the directory:\n"
     ]
    }
   ],
   "source": [
    "directory_path = \"../data/UCF101jpg/\"  # Change this to the path of your target directory\n",
    "\n",
    "innermost_directories = get_innermost_directories(directory_path)\n",
    "\n",
    "print(\"Innermost directories in the directory:\")\n",
    "\n"
   ]
  },
  {
   "cell_type": "code",
   "execution_count": 4,
   "metadata": {},
   "outputs": [
    {
     "name": "stdout",
     "output_type": "stream",
     "text": [
      "List of tuples where each slot is a word:\n",
      "('1', 'ApplyEyeMakeup')\n",
      "('2', 'ApplyLipstick')\n",
      "('3', 'Archery')\n",
      "('4', 'BabyCrawling')\n",
      "('5', 'BalanceBeam')\n",
      "('6', 'BandMarching')\n",
      "('7', 'BaseballPitch')\n",
      "('8', 'Basketball')\n",
      "('9', 'BasketballDunk')\n",
      "('10', 'BenchPress')\n",
      "('11', 'Biking')\n",
      "('12', 'Billiards')\n",
      "('13', 'BlowDryHair')\n",
      "('14', 'BlowingCandles')\n",
      "('15', 'BodyWeightSquats')\n",
      "('16', 'Bowling')\n",
      "('17', 'BoxingPunchingBag')\n",
      "('18', 'BoxingSpeedBag')\n",
      "('19', 'BreastStroke')\n",
      "('20', 'BrushingTeeth')\n",
      "('21', 'CleanAndJerk')\n",
      "('22', 'CliffDiving')\n",
      "('23', 'CricketBowling')\n",
      "('24', 'CricketShot')\n",
      "('25', 'CuttingInKitchen')\n",
      "('26', 'Diving')\n",
      "('27', 'Drumming')\n",
      "('28', 'Fencing')\n",
      "('29', 'FieldHockeyPenalty')\n",
      "('30', 'FloorGymnastics')\n",
      "('31', 'FrisbeeCatch')\n",
      "('32', 'FrontCrawl')\n",
      "('33', 'GolfSwing')\n",
      "('34', 'Haircut')\n",
      "('35', 'Hammering')\n",
      "('36', 'HammerThrow')\n",
      "('37', 'HandstandPushups')\n",
      "('38', 'HandstandWalking')\n",
      "('39', 'HeadMassage')\n",
      "('40', 'HighJump')\n",
      "('41', 'HorseRace')\n",
      "('42', 'HorseRiding')\n",
      "('43', 'HulaHoop')\n",
      "('44', 'IceDancing')\n",
      "('45', 'JavelinThrow')\n",
      "('46', 'JugglingBalls')\n",
      "('47', 'JumpingJack')\n",
      "('48', 'JumpRope')\n",
      "('49', 'Kayaking')\n",
      "('50', 'Knitting')\n",
      "('51', 'LongJump')\n",
      "('52', 'Lunges')\n",
      "('53', 'MilitaryParade')\n",
      "('54', 'Mixing')\n",
      "('55', 'MoppingFloor')\n",
      "('56', 'Nunchucks')\n",
      "('57', 'ParallelBars')\n",
      "('58', 'PizzaTossing')\n",
      "('59', 'PlayingCello')\n",
      "('60', 'PlayingDaf')\n",
      "('61', 'PlayingDhol')\n",
      "('62', 'PlayingFlute')\n",
      "('63', 'PlayingGuitar')\n",
      "('64', 'PlayingPiano')\n",
      "('65', 'PlayingSitar')\n",
      "('66', 'PlayingTabla')\n",
      "('67', 'PlayingViolin')\n",
      "('68', 'PoleVault')\n",
      "('69', 'PommelHorse')\n",
      "('70', 'PullUps')\n",
      "('71', 'Punch')\n",
      "('72', 'PushUps')\n",
      "('73', 'Rafting')\n",
      "('74', 'RockClimbingIndoor')\n",
      "('75', 'RopeClimbing')\n",
      "('76', 'Rowing')\n",
      "('77', 'SalsaSpin')\n",
      "('78', 'ShavingBeard')\n",
      "('79', 'Shotput')\n",
      "('80', 'SkateBoarding')\n",
      "('81', 'Skiing')\n",
      "('82', 'Skijet')\n",
      "('83', 'SkyDiving')\n",
      "('84', 'SoccerJuggling')\n",
      "('85', 'SoccerPenalty')\n",
      "('86', 'StillRings')\n",
      "('87', 'SumoWrestling')\n",
      "('88', 'Surfing')\n",
      "('89', 'Swing')\n",
      "('90', 'TableTennisShot')\n",
      "('91', 'TaiChi')\n",
      "('92', 'TennisSwing')\n",
      "('93', 'ThrowDiscus')\n",
      "('94', 'TrampolineJumping')\n",
      "('95', 'Typing')\n",
      "('96', 'UnevenBars')\n",
      "('97', 'VolleyballSpiking')\n",
      "('98', 'WalkingWithDog')\n",
      "('99', 'WallPushups')\n",
      "('100', 'WritingOnBoard')\n",
      "('101', 'YoYo')\n"
     ]
    }
   ],
   "source": [
    "def process_line(line):\n",
    "    words = line.split()  # Split the line into words\n",
    "    return tuple(words)\n",
    "\n",
    "def process_file(file_path):\n",
    "    result = []\n",
    "\n",
    "    with open(file_path, 'r') as file:\n",
    "        for line in file:\n",
    "            line = line.strip()  # Remove leading and trailing whitespace\n",
    "            if line:\n",
    "                word_tuple = process_line(line)\n",
    "                result.append(word_tuple)\n",
    "\n",
    "    return result\n",
    "\n",
    "    \n",
    "input_file_path = \"../data/UCFDCTSplits/classInd.txt\"  # Change this to the path of your input file\n",
    "\n",
    "output_list = process_file(input_file_path)\n",
    "\n",
    "print(\"List of tuples where each slot is a word:\")\n",
    "for word_tuple in output_list:\n",
    "    print(word_tuple)\n"
   ]
  },
  {
   "cell_type": "code",
   "execution_count": 5,
   "metadata": {},
   "outputs": [],
   "source": [
    "def match_label(label, match_list):\n",
    "    for i in match_list:\n",
    "        if i[1] == label:\n",
    "            return i[0]"
   ]
  },
  {
   "cell_type": "code",
   "execution_count": 6,
   "metadata": {},
   "outputs": [],
   "source": [
    "innermost_directories.sort()\n",
    "with open(\"../data/UCFDCTSplits/UCFjpg-list.txt\", \"w\") as f:\n",
    "    for directory in innermost_directories:\n",
    "        label = os.path.basename(os.path.dirname(directory))\n",
    "        f.write(directory+\" \"+match_label(label, output_list)+\"\\n\")\n",
    "    \n",
    "\n"
   ]
  },
  {
   "cell_type": "code",
   "execution_count": 1,
   "metadata": {},
   "outputs": [],
   "source": [
    "def replace_text_in_file(file_path, old_text, new_text):\n",
    "    with open(file_path, 'r') as file:\n",
    "        file_data = file.read()\n",
    "\n",
    "    # Perform the replacement\n",
    "    updated_data = file_data.replace(old_text, new_text)\n",
    "\n",
    "    # Write the updated data back to the file\n",
    "    with open(file_path, 'w') as file:\n",
    "        file.write(updated_data)\n",
    "\n",
    "if __name__ == \"__main__\":\n",
    "    file_path = \"/home/tusco/videodct/data/UCFDCTSplits_jpg/UCFjpg-list_.txt\"  # Replace with the actual file path\n",
    "    old_text = \"UCF101jpg\"\n",
    "    new_text = \"UCF101jpg_\"\n",
    "\n",
    "    replace_text_in_file(file_path, old_text, new_text)"
   ]
  }
 ],
 "metadata": {
  "kernelspec": {
   "display_name": "pcdarts",
   "language": "python",
   "name": "python3"
  },
  "language_info": {
   "codemirror_mode": {
    "name": "ipython",
    "version": 3
   },
   "file_extension": ".py",
   "mimetype": "text/x-python",
   "name": "python",
   "nbconvert_exporter": "python",
   "pygments_lexer": "ipython3",
   "version": "3.9.13"
  }
 },
 "nbformat": 4,
 "nbformat_minor": 2
}
