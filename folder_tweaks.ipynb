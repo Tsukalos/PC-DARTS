{
 "cells": [
  {
   "cell_type": "code",
   "execution_count": 1,
   "metadata": {},
   "outputs": [],
   "source": [
    "import os\n",
    "import random"
   ]
  },
  {
   "cell_type": "code",
   "execution_count": 5,
   "metadata": {},
   "outputs": [],
   "source": [
    "# input_file_path = \"/home/tusco/videodct/data/UCFDCTSplits/UCFmpg-list.txt\"\n",
    "# output_file_path = \"/home/tusco/videodct/data/UCFDCTSplits/UCFmpg-list_.txt\"\n",
    "# idx_file = \"/home/tusco/videodct/data/UCFDCTSplits/classInd.txt\"\n",
    "\n",
    "# # Open the input file for reading\n",
    "# with open(input_file_path, 'r') as input_file:\n",
    "#     # Read all lines from the input file\n",
    "#     lines = input_file.readlines()\n",
    "\n",
    "# with open(idx_file, 'r') as ifile:\n",
    "#     classes_pairs = ifile.readlines()\n",
    "\n",
    "# data_class_ind = {}\n",
    "# for p in classes_pairs:\n",
    "#     values = p.strip().split(\" \")\n",
    "#     data_class_ind[values[1]] = values[0]\n",
    "\n",
    "# modified_lines = []\n",
    "\n",
    "# for line in lines:\n",
    "#     l = line.strip()\n",
    "#     label = os.path.basename(os.path.dirname(l))\n",
    "#     modified_lines.append(l + f\".avi.mpg {data_class_ind[label]}\\n\")\n",
    "\n",
    "# # Open the output file for writing\n",
    "# with open(output_file_path, 'w') as output_file:\n",
    "#     # Write the modified lines to the output file\n",
    "#     output_file.writelines(modified_lines)\n",
    "\n",
    "# print(f\"Modification completed. Output written to: {output_file_path}\")\n"
   ]
  },
  {
   "cell_type": "code",
   "execution_count": 6,
   "metadata": {},
   "outputs": [],
   "source": [
    "\n",
    "# def _write_2(i_path):\n",
    "#     input_file_path = i_path\n",
    "#     output_file_path = input_file_path+\".txt\"\n",
    "\n",
    "#     # Open the input file for reading\n",
    "#     with open(input_file_path, 'r') as input_file:\n",
    "#         # Read all lines from the input file\n",
    "#         lines = input_file.readlines()\n",
    "\n",
    "#     # Add the string \".avi.mpg\" before the first whitespace in each line\n",
    "#     modified_lines = [line.split(maxsplit=1)[0] + \".avi.mpg \" + line.split(maxsplit=1)[1] if len(line.split()) > 1 else line.strip() + \".avi.mpg\\n\" for line in lines]\n",
    "\n",
    "#     # Open the output file for writing\n",
    "#     with open(output_file_path, 'w') as output_file:\n",
    "#         # Write the modified lines to the output file\n",
    "#         output_file.writelines(modified_lines)\n",
    "\n",
    "#     print(f\"Modification completed. Output written to: {output_file_path}\")\n",
    "\n",
    "# fold_files = [\n",
    "#     \"/home/tusco/videodct/data/UCFDCTSplits_mpg/testlist01.txt\",\n",
    "#     \"/home/tusco/videodct/data/UCFDCTSplits_mpg/testlist02.txt\",\n",
    "#     \"/home/tusco/videodct/data/UCFDCTSplits_mpg/testlist03.txt\",\n",
    "#     \"/home/tusco/videodct/data/UCFDCTSplits_mpg/trainlist01.txt\",\n",
    "#     \"/home/tusco/videodct/data/UCFDCTSplits_mpg/trainlist02.txt\",\n",
    "#     \"/home/tusco/videodct/data/UCFDCTSplits_mpg/trainlist03.txt\",\n",
    "# ]\n",
    "\n",
    "# for f in fold_files:\n",
    "#     _write_2(f)\n"
   ]
  },
  {
   "cell_type": "code",
   "execution_count": 2,
   "metadata": {},
   "outputs": [
    {
     "name": "stdout",
     "output_type": "stream",
     "text": [
      "Replacement successful. Output written to /home/tusco/videodct/data/UCFDCTSplits_jpg/UCFmv-list.txt\n"
     ]
    }
   ],
   "source": [
    "# def replace_and_write(input_file, output_file):\n",
    "#     try:\n",
    "#         with open(input_file, 'r') as file:\n",
    "#             # Read all lines from the input file\n",
    "#             lines = file.readlines()\n",
    "\n",
    "#         # Perform replacement in each line\n",
    "#         modified_lines = [line.replace(\"/UCF101jpg/UCF-101/\", \"/UCF-101mv_5/\") for line in lines]\n",
    "\n",
    "#         with open(output_file, 'w') as file:\n",
    "#             # Write modified lines to the output file\n",
    "#             file.writelines(modified_lines)\n",
    "\n",
    "#         print(f\"Replacement successful. Output written to {output_file}\")\n",
    "\n",
    "#     except Exception as e:\n",
    "#         print(f\"Error: {e}\")\n",
    "\n",
    "# # Example usage:\n",
    "# input_file_path = '/home/tusco/videodct/data/UCFDCTSplits_jpg/UCFjpg-list.txt'  # Replace with your input file path\n",
    "# output_file_path = '/home/tusco/videodct/data/UCFDCTSplits_jpg/UCFmv-list.txt'  # Replace with your desired output file path\n",
    "\n",
    "# replace_and_write(input_file_path, output_file_path)"
   ]
  }
 ],
 "metadata": {
  "kernelspec": {
   "display_name": "pcdarts",
   "language": "python",
   "name": "python3"
  },
  "language_info": {
   "codemirror_mode": {
    "name": "ipython",
    "version": 3
   },
   "file_extension": ".py",
   "mimetype": "text/x-python",
   "name": "python",
   "nbconvert_exporter": "python",
   "pygments_lexer": "ipython3",
   "version": "3.9.13"
  }
 },
 "nbformat": 4,
 "nbformat_minor": 2
}
